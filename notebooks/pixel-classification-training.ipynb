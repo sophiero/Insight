{
 "cells": [
  {
   "cell_type": "code",
   "execution_count": 54,
   "metadata": {},
   "outputs": [],
   "source": [
    "import numpy as np\n",
    "import sys\n",
    "import os\n",
    "\n",
    "from sklearn.pipeline import Pipeline\n",
    "from sklearn.preprocessing import StandardScaler, FunctionTransformer\n",
    "from sklearn.linear_model import LogisticRegression\n",
    "from sklearn.model_selection import train_test_split\n",
    "from sklearn.metrics import confusion_matrix, accuracy_score, classification_report"
   ]
  },
  {
   "cell_type": "markdown",
   "metadata": {},
   "source": [
    "## Loading data from file"
   ]
  },
  {
   "cell_type": "code",
   "execution_count": 7,
   "metadata": {},
   "outputs": [],
   "source": [
    "DATA_PATH = '../../data/processed'\n",
    "\n",
    "def load_data(year, img_h=1400, img_w=1400):\n",
    "\n",
    "    X = []\n",
    "    y = []\n",
    "\n",
    "    data_dir = os.path.join(DATA_PATH, str(year))\n",
    "    frames_dir = os.path.join(data_dir, 'frames')\n",
    "    masks_dir = os.path.join(data_dir, 'masks')\n",
    "\n",
    "    for file in sorted(os.listdir(frames_dir)):\n",
    "        if file.startswith('R'):\n",
    "            filename = file.split('.')[0]\n",
    "\n",
    "            frame = np.load(os.path.join(frames_dir, filename + '.npy'))\n",
    "            mask = np.load(os.path.join(masks_dir, filename + '_labels.npy'))\n",
    "            X.append(frame[:img_h, :img_w, :])\n",
    "            y.append(mask[:img_h, :img_w])\n",
    "\n",
    "    X = np.array(X)\n",
    "    y = np.array(y)\n",
    "\n",
    "    return X, y"
   ]
  },
  {
   "cell_type": "markdown",
   "metadata": {},
   "source": [
    "## Data preprocessing"
   ]
  },
  {
   "cell_type": "code",
   "execution_count": 14,
   "metadata": {},
   "outputs": [],
   "source": [
    "def reshape_data(X, y):\n",
    "    \"\"\" Reshapes data so that columns are spectral bands and rows are pixels \"\"\"\n",
    "\n",
    "    X_reshaped = X.reshape(-1, X.shape[-1])\n",
    "    y_reshaped = y.reshape(-1)\n",
    "\n",
    "    return X_reshaped, y_reshaped\n",
    "\n",
    "def standardizer(X):\n",
    "    \"\"\" Standardizes features by removing mean and scaling to unit variance  \"\"\"\n",
    "    \n",
    "    scaler = StandardScaler()\n",
    "    X_scaled = scaler.fit_transform(X)\n",
    "    \n",
    "    return X_scaled"
   ]
  },
  {
   "cell_type": "markdown",
   "metadata": {},
   "source": [
    "## Building model pipeline"
   ]
  },
  {
   "cell_type": "code",
   "execution_count": 60,
   "metadata": {},
   "outputs": [],
   "source": [
    "MODEL_PATH = '../../models'\n",
    "\n",
    "def build_pipeline():\n",
    "    \"\"\" Builds logistic regression pipeline with standardization \"\"\"\n",
    "    \n",
    "    pipeline = Pipeline([\n",
    "        ('standarize', FunctionTransformer(standardizer, validate=False)),\n",
    "        ('log_reg', LogisticRegression(solver='lbfgs', max_iter=300))])\n",
    "\n",
    "    return pipeline\n",
    "\n",
    "def save_model(pipeline, filename):\n",
    "    model = pipeline.named_steps['log_reg']\n",
    "    pickle.dump(model, open(os.path.join(MODEL_PATH, filename), 'wb'))"
   ]
  },
  {
   "cell_type": "markdown",
   "metadata": {},
   "source": [
    "## Metrics"
   ]
  },
  {
   "cell_type": "code",
   "execution_count": 44,
   "metadata": {},
   "outputs": [],
   "source": [
    "def intersection_over_union(confusion_matrix):\n",
    "    \"\"\" Intersection-over-union metric for image segmentation \"\"\"\n",
    "    \n",
    "    tn, fp, fn, tp = confusion_matrix.ravel()\n",
    "    iou = tp / (tp + fn + fp)\n",
    "    return iou\n",
    "\n",
    "def print_metrics(y_true, y_pred):\n",
    "    \"\"\" Print classification metrics  \"\"\"\n",
    "    \n",
    "    conf_mat = confusion_matrix(y_true, y_pred)\n",
    "\n",
    "    print('Accuracy: %.2f' % accuracy_score(y_true, y_pred))\n",
    "    print('Intersection-over-Union: %.2f' % intersection_over_union(conf_mat))\n",
    "    print('Confusion Matrix: \\n', conf_mat)\n",
    "    print('Classification report:\\n', classification_report(y_true, y_pred))"
   ]
  },
  {
   "cell_type": "markdown",
   "metadata": {},
   "source": [
    "## Training on 2017 data "
   ]
  },
  {
   "cell_type": "code",
   "execution_count": 57,
   "metadata": {},
   "outputs": [
    {
     "name": "stdout",
     "output_type": "stream",
     "text": [
      "Accuracy: 0.92\n",
      "Intersection-over-Union: 0.77\n",
      "Confusion Matrix: \n",
      " [[7798704  322010]\n",
      " [ 580550 3058736]]\n",
      "Classification report:\n",
      "               precision    recall  f1-score   support\n",
      "\n",
      "           0       0.93      0.96      0.95   8120714\n",
      "           1       0.90      0.84      0.87   3639286\n",
      "\n",
      "    accuracy                           0.92  11760000\n",
      "   macro avg       0.92      0.90      0.91  11760000\n",
      "weighted avg       0.92      0.92      0.92  11760000\n",
      "\n"
     ]
    }
   ],
   "source": [
    "if __name__ == \"__main__\":\n",
    "    \n",
    "    # loading and reshaping data\n",
    "    X, y = load_data(year=2017)\n",
    "    X, y = reshape_data(X, y)\n",
    "\n",
    "    # train/test split\n",
    "    X_train, X_val, y_train, y_val = train_test_split(X, y, test_size=0.2, shuffle=True)\n",
    "\n",
    "    # training\n",
    "    log_reg_pipeline = build_pipeline()\n",
    "    log_reg_pipeline.fit(X_train, y_train)\n",
    "    \n",
    "    # save model\n",
    "    save_model(log_reg_pipeline, 'log_reg.pkl')\n",
    "\n",
    "    # predicting\n",
    "    y_pred = log_reg_pipeline.predict(X_val)\n",
    "    \n",
    "    # results\n",
    "    print_metrics(y_val, y_pred)"
   ]
  }
 ],
 "metadata": {
  "kernelspec": {
   "display_name": "Python 3",
   "language": "python",
   "name": "python3"
  },
  "language_info": {
   "codemirror_mode": {
    "name": "ipython",
    "version": 3
   },
   "file_extension": ".py",
   "mimetype": "text/x-python",
   "name": "python",
   "nbconvert_exporter": "python",
   "pygments_lexer": "ipython3",
   "version": "3.6.9"
  }
 },
 "nbformat": 4,
 "nbformat_minor": 2
}
