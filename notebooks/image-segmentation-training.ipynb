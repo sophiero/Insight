{
 "cells": [
  {
   "cell_type": "code",
   "execution_count": null,
   "metadata": {
    "colab": {
     "base_uri": "https://localhost:8080/",
     "height": 170
    },
    "colab_type": "code",
    "executionInfo": {
     "elapsed": 3309,
     "status": "ok",
     "timestamp": 1570406129302,
     "user": {
      "displayName": "Sophie Ro",
      "photoUrl": "https://lh3.googleusercontent.com/a-/AAuE7mB28TC8jaTKTvsw2-OSdsGUkWZmn3vk0gVqjBqvzg=s64",
      "userId": "10665491460202553592"
     },
     "user_tz": 240
    },
    "id": "aGEUUK6hvLrb",
    "outputId": "9e5b3787-17b2-4c10-ce7c-b20b18940453"
   },
   "outputs": [],
   "source": [
    "!pip install keras-unet"
   ]
  },
  {
   "cell_type": "code",
   "execution_count": 0,
   "metadata": {
    "colab": {},
    "colab_type": "code",
    "id": "gAU8wbxBe63l"
   },
   "outputs": [],
   "source": [
    "import os\n",
    "import numpy as np\n",
    "import matplotlib.pyplot as plt\n",
    "\n",
    "from sklearn.preprocessing import StandardScaler"
   ]
  },
  {
   "cell_type": "markdown",
   "metadata": {
    "colab_type": "text",
    "id": "fY1sngnc2H2r"
   },
   "source": [
    "## Loading 2017 data"
   ]
  },
  {
   "cell_type": "code",
   "execution_count": 0,
   "metadata": {
    "colab": {},
    "colab_type": "code",
    "id": "SRpugg-vfFsj"
   },
   "outputs": [],
   "source": [
    "DATA_PATH = '../../data/processed'\n",
    "\n",
    "def load_data(year, img_h=1400, img_w=1400):\n",
    "\n",
    "    X = []\n",
    "    y = []\n",
    "\n",
    "    data_dir = os.path.join(DATA_PATH, str(year))\n",
    "    frames_dir = os.path.join(data_dir, 'frames')\n",
    "    masks_dir = os.path.join(data_dir, 'masks')\n",
    "\n",
    "    for file in sorted(os.listdir(frames_dir)):\n",
    "        if file.startswith('R'):\n",
    "            filename = file.split('.')[0]\n",
    "\n",
    "            frame = np.load(os.path.join(frames_dir, filename + '.npy'))\n",
    "            mask = np.load(os.path.join(masks_dir, filename + '_labels.npy'))\n",
    "            X.append(frame[:img_h, :img_w, :])\n",
    "            y.append(mask[:img_h, :img_w])\n",
    "\n",
    "    X = np.array(X)\n",
    "    y = np.array(y)\n",
    "\n",
    "    return X, y"
   ]
  },
  {
   "cell_type": "markdown",
   "metadata": {
    "colab_type": "text",
    "id": "WupnASyv2W1b"
   },
   "source": [
    "## Cropping 512x512 image patches to feed into network"
   ]
  },
  {
   "cell_type": "code",
   "execution_count": 0,
   "metadata": {
    "colab": {},
    "colab_type": "code",
    "id": "fTt7kiTOBxd9"
   },
   "outputs": [],
   "source": [
    "# from PIL import Image\n",
    "from keras_unet.utils import get_patches\n",
    "\n",
    "def get_img_patches(X, y):\n",
    "  \n",
    "  X_crops = []\n",
    "  y_crops = []\n",
    "\n",
    "  CROP_SIZE = 512\n",
    "\n",
    "  for i, x in enumerate(X):\n",
    "    x_sample = get_patches(\n",
    "        img_arr=x, # required - array of images to be cropped\n",
    "        size=CROP_SIZE, # default is 256\n",
    "        stride=CROP_SIZE) # default is 256\n",
    "\n",
    "    y_sample = get_patches(\n",
    "      img_arr=y[i].reshape(HEIGHT,WIDTH,1), # required - array of images to be cropped\n",
    "      size=CROP_SIZE, \n",
    "      stride=CROP_SIZE)\n",
    "\n",
    "    X_crops.append(x_sample)\n",
    "    y_crops.append(y_sample)\n",
    "    \n",
    "  X_crops = np.array(X_crops)\n",
    "  y_crops = np.array(y_crops)\n",
    "  \n",
    "  return X_crops, y_crops"
   ]
  },
  {
   "cell_type": "markdown",
   "metadata": {
    "colab_type": "text",
    "id": "L6bfqfsM2gvj"
   },
   "source": [
    "## Loading, standardizing and shaping data for training"
   ]
  },
  {
   "cell_type": "code",
   "execution_count": 0,
   "metadata": {
    "colab": {},
    "colab_type": "code",
    "id": "9_fVRJBKXl9K"
   },
   "outputs": [],
   "source": [
    "def standardize(X):\n",
    "\n",
    "  # flatten X to 2D array\n",
    "  X_reshaped = X.reshape(-1, X.shape[-1])\n",
    "\n",
    "  # standardize on columns\n",
    "  scaler = StandardScaler()\n",
    "  X_scaled = scaler.fit_transform(X_reshaped)\n",
    "\n",
    "  # reshape X to original shape\n",
    "  X_final = X_scaled.reshape(X.shape)\n",
    "\n",
    "  return X_final"
   ]
  },
  {
   "cell_type": "code",
   "execution_count": 0,
   "metadata": {
    "colab": {},
    "colab_type": "code",
    "id": "KZyu0ivZYAt9"
   },
   "outputs": [],
   "source": [
    "X, y = load_data(year=2018)\n",
    "X_scaled = standardize(X)\n",
    "X_crops, y_crops = get_img_patches(X_scaled, y)"
   ]
  },
  {
   "cell_type": "code",
   "execution_count": 0,
   "metadata": {
    "colab": {},
    "colab_type": "code",
    "id": "XC11LfQsYV4T"
   },
   "outputs": [],
   "source": [
    "X_reshaped = X_crops.reshape(X_crops.shape[0] * X_crops.shape[1], \n",
    "                            X_crops.shape[2], \n",
    "                            X_crops.shape[3],  \n",
    "                            X_crops.shape[4])\n",
    "\n",
    "y_reshaped  = y_crops.reshape(y_crops.shape[0] * y_crops.shape[1], \n",
    "                            y_crops.shape[2], \n",
    "                            y_crops.shape[3],\n",
    "                            1)"
   ]
  },
  {
   "cell_type": "markdown",
   "metadata": {
    "colab_type": "text",
    "id": "sixs6MxwSHSV"
   },
   "source": [
    "## Train/val split"
   ]
  },
  {
   "cell_type": "code",
   "execution_count": 35,
   "metadata": {
    "colab": {
     "base_uri": "https://localhost:8080/",
     "height": 85
    },
    "colab_type": "code",
    "executionInfo": {
     "elapsed": 1134,
     "status": "ok",
     "timestamp": 1570406272359,
     "user": {
      "displayName": "Sophie Ro",
      "photoUrl": "https://lh3.googleusercontent.com/a-/AAuE7mB28TC8jaTKTvsw2-OSdsGUkWZmn3vk0gVqjBqvzg=s64",
      "userId": "10665491460202553592"
     },
     "user_tz": 240
    },
    "id": "BMspn1ebavTC",
    "outputId": "97b40626-0d63-46cc-8065-94c491b4b1d4"
   },
   "outputs": [
    {
     "name": "stdout",
     "output_type": "stream",
     "text": [
      "x_train:  (96, 512, 512, 13)\n",
      "y_train:  (96, 512, 512, 1)\n",
      "x_val:  (24, 512, 512, 13)\n",
      "y_val:  (24, 512, 512, 1)\n"
     ]
    }
   ],
   "source": [
    "X_train, X_val, y_train, y_val = train_test_split(X_reshaped, y_reshaped, test_size=0.2, shuffle=False)\n",
    "\n",
    "print(\"x_train: \", X_train.shape)\n",
    "print(\"y_train: \", y_train.shape)\n",
    "print(\"x_val: \", X_val.shape)\n",
    "print(\"y_val: \", y_val.shape)"
   ]
  },
  {
   "cell_type": "markdown",
   "metadata": {
    "colab_type": "text",
    "id": "58cDbEuuxfzZ"
   },
   "source": [
    "\n",
    "## Prepare train generator with data augmentation"
   ]
  },
  {
   "cell_type": "code",
   "execution_count": null,
   "metadata": {
    "colab": {
     "base_uri": "https://localhost:8080/",
     "height": 105
    },
    "colab_type": "code",
    "executionInfo": {
     "elapsed": 1721,
     "status": "ok",
     "timestamp": 1570406275962,
     "user": {
      "displayName": "Sophie Ro",
      "photoUrl": "https://lh3.googleusercontent.com/a-/AAuE7mB28TC8jaTKTvsw2-OSdsGUkWZmn3vk0gVqjBqvzg=s64",
      "userId": "10665491460202553592"
     },
     "user_tz": 240
    },
    "id": "gSxM3BxO0q2P",
    "outputId": "0b430092-e0d7-4bc3-d2f6-3c90eebbcf7d"
   },
   "outputs": [],
   "source": [
    "from keras_unet.utils import get_augmented\n",
    "\n",
    "train_gen = get_augmented(\n",
    "    X_train, y_train, batch_size=2,\n",
    "    data_gen_args = dict(\n",
    "        horizontal_flip=True,\n",
    "        vertical_flip=True,\n",
    "    ))"
   ]
  },
  {
   "cell_type": "markdown",
   "metadata": {
    "colab_type": "text",
    "id": "cZEtnv0n2xy-"
   },
   "source": [
    "## Initialize network"
   ]
  },
  {
   "cell_type": "code",
   "execution_count": 0,
   "metadata": {
    "colab": {},
    "colab_type": "code",
    "id": "Efi6ryJs0MfO"
   },
   "outputs": [],
   "source": [
    "from keras_unet.models import custom_unet\n",
    "\n",
    "input_shape = X_train[0].shape\n",
    "\n",
    "model = custom_unet(\n",
    "    input_shape,\n",
    "    filters=32,\n",
    "    use_batch_norm=True,\n",
    "    num_classes=1,\n",
    "    dropout=0.3,\n",
    "    num_layers=4\n",
    ")"
   ]
  },
  {
   "cell_type": "code",
   "execution_count": 38,
   "metadata": {
    "colab": {
     "base_uri": "https://localhost:8080/",
     "height": 1000
    },
    "colab_type": "code",
    "executionInfo": {
     "elapsed": 930,
     "status": "ok",
     "timestamp": 1570406278022,
     "user": {
      "displayName": "Sophie Ro",
      "photoUrl": "https://lh3.googleusercontent.com/a-/AAuE7mB28TC8jaTKTvsw2-OSdsGUkWZmn3vk0gVqjBqvzg=s64",
      "userId": "10665491460202553592"
     },
     "user_tz": 240
    },
    "id": "sEx1QU3LBIcC",
    "outputId": "450069cd-b921-4903-b6ed-8882484c57b1"
   },
   "outputs": [
    {
     "name": "stdout",
     "output_type": "stream",
     "text": [
      "Model: \"model_2\"\n",
      "__________________________________________________________________________________________________\n",
      "Layer (type)                    Output Shape         Param #     Connected to                     \n",
      "==================================================================================================\n",
      "input_2 (InputLayer)            (None, 512, 512, 13) 0                                            \n",
      "__________________________________________________________________________________________________\n",
      "conv2d_20 (Conv2D)              (None, 512, 512, 32) 3776        input_2[0][0]                    \n",
      "__________________________________________________________________________________________________\n",
      "batch_normalization_19 (BatchNo (None, 512, 512, 32) 128         conv2d_20[0][0]                  \n",
      "__________________________________________________________________________________________________\n",
      "dropout_6 (Dropout)             (None, 512, 512, 32) 0           batch_normalization_19[0][0]     \n",
      "__________________________________________________________________________________________________\n",
      "conv2d_21 (Conv2D)              (None, 512, 512, 32) 9248        dropout_6[0][0]                  \n",
      "__________________________________________________________________________________________________\n",
      "batch_normalization_20 (BatchNo (None, 512, 512, 32) 128         conv2d_21[0][0]                  \n",
      "__________________________________________________________________________________________________\n",
      "max_pooling2d_5 (MaxPooling2D)  (None, 256, 256, 32) 0           batch_normalization_20[0][0]     \n",
      "__________________________________________________________________________________________________\n",
      "conv2d_22 (Conv2D)              (None, 256, 256, 64) 18496       max_pooling2d_5[0][0]            \n",
      "__________________________________________________________________________________________________\n",
      "batch_normalization_21 (BatchNo (None, 256, 256, 64) 256         conv2d_22[0][0]                  \n",
      "__________________________________________________________________________________________________\n",
      "dropout_7 (Dropout)             (None, 256, 256, 64) 0           batch_normalization_21[0][0]     \n",
      "__________________________________________________________________________________________________\n",
      "conv2d_23 (Conv2D)              (None, 256, 256, 64) 36928       dropout_7[0][0]                  \n",
      "__________________________________________________________________________________________________\n",
      "batch_normalization_22 (BatchNo (None, 256, 256, 64) 256         conv2d_23[0][0]                  \n",
      "__________________________________________________________________________________________________\n",
      "max_pooling2d_6 (MaxPooling2D)  (None, 128, 128, 64) 0           batch_normalization_22[0][0]     \n",
      "__________________________________________________________________________________________________\n",
      "conv2d_24 (Conv2D)              (None, 128, 128, 128 73856       max_pooling2d_6[0][0]            \n",
      "__________________________________________________________________________________________________\n",
      "batch_normalization_23 (BatchNo (None, 128, 128, 128 512         conv2d_24[0][0]                  \n",
      "__________________________________________________________________________________________________\n",
      "dropout_8 (Dropout)             (None, 128, 128, 128 0           batch_normalization_23[0][0]     \n",
      "__________________________________________________________________________________________________\n",
      "conv2d_25 (Conv2D)              (None, 128, 128, 128 147584      dropout_8[0][0]                  \n",
      "__________________________________________________________________________________________________\n",
      "batch_normalization_24 (BatchNo (None, 128, 128, 128 512         conv2d_25[0][0]                  \n",
      "__________________________________________________________________________________________________\n",
      "max_pooling2d_7 (MaxPooling2D)  (None, 64, 64, 128)  0           batch_normalization_24[0][0]     \n",
      "__________________________________________________________________________________________________\n",
      "conv2d_26 (Conv2D)              (None, 64, 64, 256)  295168      max_pooling2d_7[0][0]            \n",
      "__________________________________________________________________________________________________\n",
      "batch_normalization_25 (BatchNo (None, 64, 64, 256)  1024        conv2d_26[0][0]                  \n",
      "__________________________________________________________________________________________________\n",
      "dropout_9 (Dropout)             (None, 64, 64, 256)  0           batch_normalization_25[0][0]     \n",
      "__________________________________________________________________________________________________\n",
      "conv2d_27 (Conv2D)              (None, 64, 64, 256)  590080      dropout_9[0][0]                  \n",
      "__________________________________________________________________________________________________\n",
      "batch_normalization_26 (BatchNo (None, 64, 64, 256)  1024        conv2d_27[0][0]                  \n",
      "__________________________________________________________________________________________________\n",
      "max_pooling2d_8 (MaxPooling2D)  (None, 32, 32, 256)  0           batch_normalization_26[0][0]     \n",
      "__________________________________________________________________________________________________\n",
      "conv2d_28 (Conv2D)              (None, 32, 32, 512)  1180160     max_pooling2d_8[0][0]            \n",
      "__________________________________________________________________________________________________\n",
      "batch_normalization_27 (BatchNo (None, 32, 32, 512)  2048        conv2d_28[0][0]                  \n",
      "__________________________________________________________________________________________________\n",
      "dropout_10 (Dropout)            (None, 32, 32, 512)  0           batch_normalization_27[0][0]     \n",
      "__________________________________________________________________________________________________\n",
      "conv2d_29 (Conv2D)              (None, 32, 32, 512)  2359808     dropout_10[0][0]                 \n",
      "__________________________________________________________________________________________________\n",
      "batch_normalization_28 (BatchNo (None, 32, 32, 512)  2048        conv2d_29[0][0]                  \n",
      "__________________________________________________________________________________________________\n",
      "conv2d_transpose_5 (Conv2DTrans (None, 64, 64, 256)  524544      batch_normalization_28[0][0]     \n",
      "__________________________________________________________________________________________________\n",
      "concatenate_5 (Concatenate)     (None, 64, 64, 512)  0           conv2d_transpose_5[0][0]         \n",
      "                                                                 batch_normalization_26[0][0]     \n",
      "__________________________________________________________________________________________________\n",
      "conv2d_30 (Conv2D)              (None, 64, 64, 256)  1179904     concatenate_5[0][0]              \n",
      "__________________________________________________________________________________________________\n",
      "batch_normalization_29 (BatchNo (None, 64, 64, 256)  1024        conv2d_30[0][0]                  \n",
      "__________________________________________________________________________________________________\n",
      "conv2d_31 (Conv2D)              (None, 64, 64, 256)  590080      batch_normalization_29[0][0]     \n",
      "__________________________________________________________________________________________________\n",
      "batch_normalization_30 (BatchNo (None, 64, 64, 256)  1024        conv2d_31[0][0]                  \n",
      "__________________________________________________________________________________________________\n",
      "conv2d_transpose_6 (Conv2DTrans (None, 128, 128, 128 131200      batch_normalization_30[0][0]     \n",
      "__________________________________________________________________________________________________\n",
      "concatenate_6 (Concatenate)     (None, 128, 128, 256 0           conv2d_transpose_6[0][0]         \n",
      "                                                                 batch_normalization_24[0][0]     \n",
      "__________________________________________________________________________________________________\n",
      "conv2d_32 (Conv2D)              (None, 128, 128, 128 295040      concatenate_6[0][0]              \n",
      "__________________________________________________________________________________________________\n",
      "batch_normalization_31 (BatchNo (None, 128, 128, 128 512         conv2d_32[0][0]                  \n",
      "__________________________________________________________________________________________________\n",
      "conv2d_33 (Conv2D)              (None, 128, 128, 128 147584      batch_normalization_31[0][0]     \n",
      "__________________________________________________________________________________________________\n",
      "batch_normalization_32 (BatchNo (None, 128, 128, 128 512         conv2d_33[0][0]                  \n",
      "__________________________________________________________________________________________________\n",
      "conv2d_transpose_7 (Conv2DTrans (None, 256, 256, 64) 32832       batch_normalization_32[0][0]     \n",
      "__________________________________________________________________________________________________\n",
      "concatenate_7 (Concatenate)     (None, 256, 256, 128 0           conv2d_transpose_7[0][0]         \n",
      "                                                                 batch_normalization_22[0][0]     \n",
      "__________________________________________________________________________________________________\n",
      "conv2d_34 (Conv2D)              (None, 256, 256, 64) 73792       concatenate_7[0][0]              \n",
      "__________________________________________________________________________________________________\n",
      "batch_normalization_33 (BatchNo (None, 256, 256, 64) 256         conv2d_34[0][0]                  \n",
      "__________________________________________________________________________________________________\n",
      "conv2d_35 (Conv2D)              (None, 256, 256, 64) 36928       batch_normalization_33[0][0]     \n",
      "__________________________________________________________________________________________________\n",
      "batch_normalization_34 (BatchNo (None, 256, 256, 64) 256         conv2d_35[0][0]                  \n",
      "__________________________________________________________________________________________________\n",
      "conv2d_transpose_8 (Conv2DTrans (None, 512, 512, 32) 8224        batch_normalization_34[0][0]     \n",
      "__________________________________________________________________________________________________\n",
      "concatenate_8 (Concatenate)     (None, 512, 512, 64) 0           conv2d_transpose_8[0][0]         \n",
      "                                                                 batch_normalization_20[0][0]     \n",
      "__________________________________________________________________________________________________\n",
      "conv2d_36 (Conv2D)              (None, 512, 512, 32) 18464       concatenate_8[0][0]              \n",
      "__________________________________________________________________________________________________\n",
      "batch_normalization_35 (BatchNo (None, 512, 512, 32) 128         conv2d_36[0][0]                  \n",
      "__________________________________________________________________________________________________\n",
      "conv2d_37 (Conv2D)              (None, 512, 512, 32) 9248        batch_normalization_35[0][0]     \n",
      "__________________________________________________________________________________________________\n",
      "batch_normalization_36 (BatchNo (None, 512, 512, 32) 128         conv2d_37[0][0]                  \n",
      "__________________________________________________________________________________________________\n",
      "conv2d_38 (Conv2D)              (None, 512, 512, 1)  33          batch_normalization_36[0][0]     \n",
      "==================================================================================================\n",
      "Total params: 7,774,753\n",
      "Trainable params: 7,768,865\n",
      "Non-trainable params: 5,888\n",
      "__________________________________________________________________________________________________\n"
     ]
    }
   ],
   "source": [
    "model.summary()"
   ]
  },
  {
   "cell_type": "markdown",
   "metadata": {
    "colab_type": "text",
    "id": "O2y4IzR5ShuF"
   },
   "source": [
    "## Compile + train"
   ]
  },
  {
   "cell_type": "code",
   "execution_count": 0,
   "metadata": {
    "colab": {},
    "colab_type": "code",
    "id": "TJD1e_isBi5R"
   },
   "outputs": [],
   "source": [
    "from keras.callbacks import ModelCheckpoint\n",
    "\n",
    "model_filename = '/content/drive/My Drive/Insight/models/model_v1.h5'\n",
    "callback_checkpoint = ModelCheckpoint(\n",
    "    model_filename, \n",
    "    verbose=1, \n",
    "    monitor='val_loss', \n",
    "    save_best_only=True,\n",
    ")"
   ]
  },
  {
   "cell_type": "code",
   "execution_count": 0,
   "metadata": {
    "colab": {},
    "colab_type": "code",
    "id": "u4WgPbty0cbO"
   },
   "outputs": [],
   "source": [
    "from keras.optimizers import Adam, SGD\n",
    "from keras_unet.metrics import iou, iou_thresholded\n",
    "from keras_unet.losses import jaccard_distance\n",
    "\n",
    "model.compile(\n",
    "    optimizer=Adam(), \n",
    "    loss='binary_crossentropy',\n",
    "    metrics=[iou]\n",
    ")"
   ]
  },
  {
   "cell_type": "markdown",
   "metadata": {
    "colab_type": "text",
    "id": "_kLOnQfK7AUQ"
   },
   "source": [
    "## Training model"
   ]
  },
  {
   "cell_type": "code",
   "execution_count": 0,
   "metadata": {
    "colab": {},
    "colab_type": "code",
    "id": "TAJUGzw51wJR"
   },
   "outputs": [],
   "source": [
    "history = model.fit_generator(\n",
    "    train_gen,\n",
    "    steps_per_epoch=100,\n",
    "    epochs=10,\n",
    "    validation_data=(X_val, y_val),\n",
    "    callbacks=[callback_checkpoint]\n",
    ")"
   ]
  },
  {
   "cell_type": "markdown",
   "metadata": {
    "colab_type": "text",
    "id": "ULPjB4sU3Apy"
   },
   "source": [
    "## Validation Results"
   ]
  },
  {
   "cell_type": "code",
   "execution_count": 0,
   "metadata": {
    "colab": {},
    "colab_type": "code",
    "id": "QmrQT_nP5ePq"
   },
   "outputs": [],
   "source": [
    "y_pred = model.predict(X_val)\n",
    "y_pred_binary = np.round_(y_pred, 0)"
   ]
  },
  {
   "cell_type": "code",
   "execution_count": 54,
   "metadata": {
    "colab": {
     "base_uri": "https://localhost:8080/",
     "height": 272
    },
    "colab_type": "code",
    "executionInfo": {
     "elapsed": 29315,
     "status": "ok",
     "timestamp": 1570407722263,
     "user": {
      "displayName": "Sophie Ro",
      "photoUrl": "https://lh3.googleusercontent.com/a-/AAuE7mB28TC8jaTKTvsw2-OSdsGUkWZmn3vk0gVqjBqvzg=s64",
      "userId": "10665491460202553592"
     },
     "user_tz": 240
    },
    "id": "EDM6Y8XD_JOL",
    "outputId": "f18f6b46-a70d-4a99-f939-1c6e9b3aca1d"
   },
   "outputs": [
    {
     "name": "stdout",
     "output_type": "stream",
     "text": [
      "Accuracy: 0.95\n",
      "IoU: 0.80\n",
      "Confusion Matrix: \n",
      " [[4610931  225429]\n",
      " [ 117315 1337781]]\n",
      "Classification report:\n",
      "               precision    recall  f1-score   support\n",
      "\n",
      "         0.0       0.95      0.98      0.96   4728246\n",
      "         1.0       0.92      0.86      0.89   1563210\n",
      "\n",
      "    accuracy                           0.95   6291456\n",
      "   macro avg       0.94      0.92      0.93   6291456\n",
      "weighted avg       0.94      0.95      0.94   6291456\n",
      "\n"
     ]
    }
   ],
   "source": [
    "from sklearn.metrics import accuracy_score, confusion_matrix, classification_report\n",
    "\n",
    "def iou(confusion_matrix):\n",
    "  tn, fp, fn, tp = confusion_matrix.ravel()\n",
    "  \n",
    "  iou = tp / (tp + fn + fp)\n",
    "  return iou\n",
    "\n",
    "cm = confusion_matrix(y_val.flatten(), y_pred_binary.flatten())\n",
    "\n",
    "print('Accuracy: %.2f' % accuracy_score(y_pred_binary.flatten(), y_val.flatten()))\n",
    "print('IoU: %.2f' % iou(cm))\n",
    "print('Confusion Matrix: \\n',cm)\n",
    "print('Classification report:\\n', classification_report(y_pred_binary.flatten(), y_val.flatten()))"
   ]
  },
  {
   "cell_type": "code",
   "execution_count": 56,
   "metadata": {
    "colab": {
     "base_uri": "https://localhost:8080/",
     "height": 346
    },
    "colab_type": "code",
    "executionInfo": {
     "elapsed": 576,
     "status": "ok",
     "timestamp": 1570407761149,
     "user": {
      "displayName": "Sophie Ro",
      "photoUrl": "https://lh3.googleusercontent.com/a-/AAuE7mB28TC8jaTKTvsw2-OSdsGUkWZmn3vk0gVqjBqvzg=s64",
      "userId": "10665491460202553592"
     },
     "user_tz": 240
    },
    "id": "2HUkpXO3590u",
    "outputId": "06c9102f-fcc1-443d-fe4e-88cce93d33e6"
   },
   "outputs": [
    {
     "data": {
      "text/plain": [
       "<matplotlib.image.AxesImage at 0x7fe0a513a6d8>"
      ]
     },
     "execution_count": 56,
     "metadata": {
      "tags": []
     },
     "output_type": "execute_result"
    },
    {
     "data": {
      "image/png": "[encoded data removed]",
      "text/plain": [
       "<Figure size 792x432 with 2 Axes>"
      ]
     },
     "metadata": {
      "tags": []
     },
     "output_type": "display_data"
    }
   ],
   "source": [
    "f = plt.figure(figsize=(11,6))\n",
    "\n",
    "plt.subplot(121)\n",
    "plt.title('Actual Coverage')\n",
    "plt.xticks([])\n",
    "plt.yticks([])\n",
    "plt.imshow(y_val[0].reshape(512, 512))\n",
    "\n",
    "plt.subplot(122)\n",
    "plt.title('Predicted Coverage')\n",
    "plt.xticks([])\n",
    "plt.yticks([])\n",
    "plt.imshow(y_pred_binary[0].reshape(512, 512))"
   ]
  }
 ],
 "metadata": {
  "accelerator": "GPU",
  "colab": {
   "collapsed_sections": [],
   "machine_shape": "hm",
   "name": "Training_UNet",
   "provenance": [
    {
     "file_id": "1-D_aZPgJvIX_QrO4NHrwVgxhjA4cXK8H",
     "timestamp": 1570386542773
    }
   ]
  },
  "kernelspec": {
   "display_name": "Python 3",
   "language": "python",
   "name": "python3"
  },
  "language_info": {
   "codemirror_mode": {
    "name": "ipython",
    "version": 3
   },
   "file_extension": ".py",
   "mimetype": "text/x-python",
   "name": "python",
   "nbconvert_exporter": "python",
   "pygments_lexer": "ipython3",
   "version": "3.6.9"
  }
 },
 "nbformat": 4,
 "nbformat_minor": 1
}
