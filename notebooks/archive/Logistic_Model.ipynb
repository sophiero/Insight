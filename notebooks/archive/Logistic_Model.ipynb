{
 "cells": [
  {
   "cell_type": "code",
   "execution_count": 4,
   "metadata": {
    "colab": {},
    "colab_type": "code",
    "id": "gAU8wbxBe63l"
   },
   "outputs": [],
   "source": [
    "import os\n",
    "import numpy as np\n",
    "import matplotlib.pyplot as plt"
   ]
  },
  {
   "cell_type": "code",
   "execution_count": 3,
   "metadata": {
    "colab": {
     "base_uri": "https://localhost:8080/",
     "height": 122
    },
    "colab_type": "code",
    "executionInfo": {
     "elapsed": 18654,
     "status": "ok",
     "timestamp": 1569431823870,
     "user": {
      "displayName": "Sophie Ro",
      "photoUrl": "https://lh3.googleusercontent.com/a-/AAuE7mB28TC8jaTKTvsw2-OSdsGUkWZmn3vk0gVqjBqvzg=s64",
      "userId": "10665491460202553592"
     },
     "user_tz": 240
    },
    "id": "vByjBjfuxi9w",
    "outputId": "cea000c8-a9ed-46a5-9f43-d48c34b5db63"
   },
   "outputs": [
    {
     "name": "stdout",
     "output_type": "stream",
     "text": [
      "Go to this URL in a browser: https://accounts.google.com/o/oauth2/auth?client_id=947318989803-6bn6qk8qdgf4n4g3pfee6491hc0brc4i.apps.googleusercontent.com&redirect_uri=urn%3Aietf%3Awg%3Aoauth%3A2.0%3Aoob&scope=email%20https%3A%2F%2Fwww.googleapis.com%2Fauth%2Fdocs.test%20https%3A%2F%2Fwww.googleapis.com%2Fauth%2Fdrive%20https%3A%2F%2Fwww.googleapis.com%2Fauth%2Fdrive.photos.readonly%20https%3A%2F%2Fwww.googleapis.com%2Fauth%2Fpeopleapi.readonly&response_type=code\n",
      "\n",
      "Enter your authorization code:\n",
      "··········\n",
      "Mounted at /content/drive/\n"
     ]
    }
   ],
   "source": [
    "from google.colab import drive\n",
    "drive.mount('/content/drive/')"
   ]
  },
  {
   "cell_type": "code",
   "execution_count": 14,
   "metadata": {
    "colab": {},
    "colab_type": "code",
    "id": "ovfKU5I6e2MU"
   },
   "outputs": [],
   "source": [
    "MODEL_PATH = './models/'\n",
    "DATA_PATH = './data/2017'\n",
    "# DATA_PATH = './data/2017_numpy'\n",
    "FRAME_PATH = DATA_PATH+'/frames/'\n",
    "MASK_PATH = DATA_PATH+'/masks/'"
   ]
  },
  {
   "cell_type": "markdown",
   "metadata": {},
   "source": [
    "## Loading 2017 image/label data"
   ]
  },
  {
   "cell_type": "code",
   "execution_count": 6,
   "metadata": {
    "colab": {},
    "colab_type": "code",
    "id": "SRpugg-vfFsj"
   },
   "outputs": [],
   "source": [
    "HEIGHT = 1400\n",
    "WIDTH = 1400\n",
    "\n",
    "# def load_data():\n",
    "    \n",
    "X = []\n",
    "y = []\n",
    "\n",
    "for file in sorted(os.listdir(FRAME_PATH)):   \n",
    "    if file.startswith('R'):\n",
    "        filename = file.split('.')[0]\n",
    "\n",
    "        frame = np.load(os.path.join(FRAME_PATH, filename + '.npy'))\n",
    "        mask = np.load(os.path.join(MASK_PATH, filename + '_labels.npy'))\n",
    "        X.append(frame[:HEIGHT, :WIDTH, :])\n",
    "        y.append(mask[:HEIGHT, :WIDTH])\n",
    "\n",
    "X = np.array(X)\n",
    "y = np.array(y)\n",
    "\n",
    "# return X, y"
   ]
  },
  {
   "cell_type": "markdown",
   "metadata": {},
   "source": [
    "## Data pre-processing functions"
   ]
  },
  {
   "cell_type": "code",
   "execution_count": 8,
   "metadata": {
    "colab": {},
    "colab_type": "code",
    "id": "gQ8ZFPZugJ6h"
   },
   "outputs": [],
   "source": [
    "def reshape_data(X, y):\n",
    "    X_reshaped = X.reshape(-1, X.shape[-1])\n",
    "    y_reshaped = y.reshape(-1)\n",
    "\n",
    "    return X_reshaped, y_reshaped"
   ]
  },
  {
   "cell_type": "code",
   "execution_count": 9,
   "metadata": {
    "colab": {},
    "colab_type": "code",
    "id": "-UKeZCkCyb-7"
   },
   "outputs": [],
   "source": [
    "def shuffle_data(X, y):\n",
    "\n",
    "    data = np.c_[X, y]\n",
    "    np.random.shuffle(data)\n",
    "\n",
    "    X_shuffled = data[:, :-1]\n",
    "    y_shuffled = data[:, -1]\n",
    "\n",
    "    return X_shuffled, y_shuffled"
   ]
  },
  {
   "cell_type": "code",
   "execution_count": 10,
   "metadata": {
    "colab": {},
    "colab_type": "code",
    "id": "8n24VE3yxN8d"
   },
   "outputs": [],
   "source": [
    "from sklearn.preprocessing import MinMaxScaler, StandardScaler\n",
    "\n",
    "# train/test\n",
    "def normalize(X):\n",
    "    scaler = MinMaxScaler()\n",
    "    X_scaled = scaler.fit_transform(X)\n",
    "    return X_scaled\n",
    "\n",
    "def standardize(X):\n",
    "    scaler = StandardScaler()\n",
    "    X_scaled = scaler.fit_transform(X)\n",
    "    return X_scaled"
   ]
  },
  {
   "cell_type": "markdown",
   "metadata": {},
   "source": [
    "## Intersection-Over-Union metric"
   ]
  },
  {
   "cell_type": "code",
   "execution_count": 124,
   "metadata": {},
   "outputs": [],
   "source": [
    "def iou(confusion_matrix):\n",
    "    tn, fp, fn, tp = confusion_matrix.ravel()\n",
    "    iou = tp / (tp + fn + fp)\n",
    "    return iou"
   ]
  },
  {
   "cell_type": "markdown",
   "metadata": {},
   "source": [
    "## Function to save model parameters"
   ]
  },
  {
   "cell_type": "code",
   "execution_count": 18,
   "metadata": {},
   "outputs": [],
   "source": [
    "import pickle\n",
    "\n",
    "def save_model(model, filename):\n",
    "# Save to file in the current working directory\n",
    "    with open(os.path.join(MODEL_PATH, filename+'.pkl'), 'wb') as file:\n",
    "        pickle.dump(model, file)\n",
    "\n",
    "def load_model(filename):\n",
    "    # Load from file\n",
    "    with open(os.path.join(MODEL_PATH, filename), 'rb') as file:\n",
    "        pickle_model = pickle.load(file)\n",
    "        \n",
    "    return pickle_model"
   ]
  },
  {
   "cell_type": "code",
   "execution_count": 12,
   "metadata": {
    "colab": {},
    "colab_type": "code",
    "id": "MvruduYLfIFZ"
   },
   "outputs": [],
   "source": [
    "from sklearn.model_selection import train_test_split\n",
    "\n",
    "X_train, X_test, y_val, y_val = train_test_split(X, y, test_size=0.2, shuffle=False)\n",
    "\n",
    "## Training data\n",
    "X_train, y_train = reshape_data(X_train, y_train)\n",
    "X_train, y_train = shuffle_data(X_train, y_train)\n",
    "\n",
    "X_train_standardized = standardize(X_train)\n",
    "\n",
    "## Validation data\n",
    "X_val, y_val = reshape_data(X_val, y_val)\n",
    "X_val, y_val = shuffle_data(X_val, y_val)\n",
    "\n",
    "X_val_standardized = standardize(X_val)"
   ]
  },
  {
   "cell_type": "markdown",
   "metadata": {
    "colab_type": "text",
    "id": "BqDjWsUuiB0b"
   },
   "source": [
    "## Logistic regression training on 2017 data"
   ]
  },
  {
   "cell_type": "code",
   "execution_count": 13,
   "metadata": {
    "colab": {
     "base_uri": "https://localhost:8080/",
     "height": 272
    },
    "colab_type": "code",
    "executionInfo": {
     "elapsed": 89963,
     "status": "ok",
     "timestamp": 1569432702102,
     "user": {
      "displayName": "Sophie Ro",
      "photoUrl": "https://lh3.googleusercontent.com/a-/AAuE7mB28TC8jaTKTvsw2-OSdsGUkWZmn3vk0gVqjBqvzg=s64",
      "userId": "10665491460202553592"
     },
     "user_tz": 240
    },
    "id": "C2bNry0VgMWf",
    "outputId": "caf82df7-3f04-46eb-d336-d77a51ea13ed"
   },
   "outputs": [
    {
     "data": {
      "text/plain": [
       "LogisticRegression(C=1.0, class_weight=None, dual=False, fit_intercept=True,\n",
       "                   intercept_scaling=1, l1_ratio=None, max_iter=300,\n",
       "                   multi_class='warn', n_jobs=None, penalty='l2',\n",
       "                   random_state=None, solver='lbfgs', tol=0.0001, verbose=0,\n",
       "                   warm_start=False)"
      ]
     },
     "execution_count": 13,
     "metadata": {},
     "output_type": "execute_result"
    }
   ],
   "source": [
    "from sklearn.linear_model import LogisticRegression\n",
    "from sklearn.metrics import accuracy_score, confusion_matrix, classification_report\n",
    "\n",
    "# Training Logistic Regression\n",
    "logmodel = LogisticRegression(solver='lbfgs', max_iter=300)\n",
    "logmodel.fit(X_train_standardized, y_train)"
   ]
  },
  {
   "cell_type": "code",
   "execution_count": 114,
   "metadata": {},
   "outputs": [],
   "source": [
    "## saving model to disk\n",
    "save_model(logmodel, 'log_model_2017_07_19')"
   ]
  },
  {
   "cell_type": "markdown",
   "metadata": {},
   "source": [
    "## Logistic regression results on validation data"
   ]
  },
  {
   "cell_type": "code",
   "execution_count": 23,
   "metadata": {},
   "outputs": [
    {
     "name": "stdout",
     "output_type": "stream",
     "text": [
      "Accuracy: 0.92\n",
      "Confusion Matrix: \n",
      " [[8278645  502616]\n",
      " [ 406928 2571811]]\n",
      "Classification report:\n",
      "               precision    recall  f1-score   support\n",
      "\n",
      "         0.0       0.95      0.94      0.95   8781261\n",
      "         1.0       0.84      0.86      0.85   2978739\n",
      "\n",
      "    accuracy                           0.92  11760000\n",
      "   macro avg       0.89      0.90      0.90  11760000\n",
      "weighted avg       0.92      0.92      0.92  11760000\n",
      "\n"
     ]
    }
   ],
   "source": [
    "# Testing \n",
    "y_pred = logmodel.predict(X_val_standardized)\n",
    "\n",
    "print('Accuracy: %.2f' % accuracy_score(y_val, y_pred))\n",
    "print('Confusion Matrix: \\n', confusion_matrix(y_val, y_pred))\n",
    "print('Classification report:\\n', classification_report(y_val, y_pred))"
   ]
  },
  {
   "cell_type": "markdown",
   "metadata": {},
   "source": [
    "## Testing on 2018 Data"
   ]
  },
  {
   "cell_type": "code",
   "execution_count": 35,
   "metadata": {},
   "outputs": [],
   "source": [
    "DATA_2018_PATH = './data/2018/'\n",
    "FRAME_2018_PATH = DATA_2018_PATH+'/frames/'\n",
    "MASK_2018_PATH = DATA_2018_PATH+'/masks/'"
   ]
  },
  {
   "cell_type": "code",
   "execution_count": 40,
   "metadata": {},
   "outputs": [],
   "source": [
    "date_2108_files = {}\n",
    "\n",
    "for file in sorted(os.listdir(FRAME_2018_PATH)):   \n",
    "    if file.startswith('R'):\n",
    "        filename = file.split('.')[0]\n",
    "        region = filename.split('_')[0]\n",
    "        date = filename.split('_', maxsplit=1)[1]\n",
    "\n",
    "        if date in date_2108_files:\n",
    "            date_2108_files[date].append(region)\n",
    "        else:\n",
    "            date_2108_files[date] = [region]"
   ]
  },
  {
   "cell_type": "code",
   "execution_count": 45,
   "metadata": {},
   "outputs": [],
   "source": [
    "HEIGHT = 1400\n",
    "WIDTH = 1400\n",
    "\n",
    "def fetch_data_by_date(day, df):\n",
    "    X = []\n",
    "    y = []\n",
    "    \n",
    "    data = df[day]\n",
    "    \n",
    "    for region in data:\n",
    "        filename = region + '_' + day\n",
    "\n",
    "        frame = np.load(os.path.join(FRAME_2018_PATH, filename + '.npy'))\n",
    "        mask = np.load(os.path.join(MASK_2018_PATH, region + '_labels.npy'))\n",
    "\n",
    "        X.append(frame[:HEIGHT, :WIDTH, :])\n",
    "        y.append(mask[:HEIGHT, :WIDTH])\n",
    "        \n",
    "    X = np.array(X)\n",
    "    y = np.array(y)\n",
    "    \n",
    "    return X, y"
   ]
  },
  {
   "cell_type": "code",
   "execution_count": 122,
   "metadata": {},
   "outputs": [],
   "source": [
    "day = '2018_07_19'\n",
    "X_2018, y_2018 = fetch_data_by_date(day, date_2108_files)"
   ]
  },
  {
   "cell_type": "code",
   "execution_count": 123,
   "metadata": {},
   "outputs": [],
   "source": [
    "X_2018_reshaped, y_2018_reshaped = reshape_data(X_2018, y_2018)\n",
    "X_2018_std = standardize(X_2018_reshaped)\n",
    "\n",
    "y_2018_pred = logmodel.predict(X_2018_std)"
   ]
  },
  {
   "cell_type": "code",
   "execution_count": 131,
   "metadata": {},
   "outputs": [
    {
     "name": "stdout",
     "output_type": "stream",
     "text": [
      "Accuracy: 0.90\n",
      "Intersection Over Union: 0.71\n",
      "Confusion Matrix: \n",
      " [[25933983  2070923]\n",
      " [ 1817760  9377334]]\n",
      "Classification report:\n",
      "               precision    recall  f1-score   support\n",
      "\n",
      "           0       0.93      0.93      0.93  28004906\n",
      "           1       0.82      0.84      0.83  11195094\n",
      "\n",
      "    accuracy                           0.90  39200000\n",
      "   macro avg       0.88      0.88      0.88  39200000\n",
      "weighted avg       0.90      0.90      0.90  39200000\n",
      "\n"
     ]
    }
   ],
   "source": [
    "cm = confusion_matrix(y_2018_reshaped, y_2018_pred)\n",
    "\n",
    "print('Accuracy: %.2f' % accuracy_score(y_2018_reshaped, y_2018_pred))\n",
    "print('Intersection Over Union: %.2f' % iou(cm))\n",
    "print('Confusion Matrix: \\n', cm)\n",
    "print('Classification report:\\n', classification_report(y_2018_reshaped, y_2018_pred))"
   ]
  },
  {
   "cell_type": "markdown",
   "metadata": {},
   "source": [
    "## Predicted 2018 sample"
   ]
  },
  {
   "cell_type": "code",
   "execution_count": 127,
   "metadata": {},
   "outputs": [
    {
     "data": {
      "text/plain": [
       "<matplotlib.image.AxesImage at 0x11ebfe7f0>"
      ]
     },
     "execution_count": 127,
     "metadata": {},
     "output_type": "execute_result"
    },
    {
     "data": {
      "image/png": "[encoded data removed]",
      "text/plain": [
       "<Figure size 792x432 with 2 Axes>"
      ]
     },
     "metadata": {},
     "output_type": "display_data"
    }
   ],
   "source": [
    "f = plt.figure(figsize=(11,6))\n",
    "\n",
    "plt.subplot(121)\n",
    "plt.title('Actual Coverage')\n",
    "plt.xticks([])\n",
    "plt.yticks([])\n",
    "plt.imshow(y_2018.reshape(20,1400,1400)[1][:500,:500])\n",
    "\n",
    "plt.subplot(122)\n",
    "plt.title('Predicted Coverage')\n",
    "plt.xticks([])\n",
    "plt.yticks([])\n",
    "plt.imshow(y_2018_pred.reshape(20,1400,1400)[1][:500,:500])"
   ]
  },
  {
   "cell_type": "code",
   "execution_count": 133,
   "metadata": {},
   "outputs": [
    {
     "name": "stdout",
     "output_type": "stream",
     "text": [
      "Accuracy: 0.88\n",
      "Intersection Over Union: 0.71\n",
      "Confusion Matrix: \n",
      " [[25933983  1817760]\n",
      " [ 2070923  9377334]]\n",
      "Classification report:\n",
      "               precision    recall  f1-score   support\n",
      "\n",
      "         0.0       0.93      0.88      0.90   1471033\n",
      "         1.0       0.78      0.86      0.82    717881\n",
      "\n",
      "    accuracy                           0.88   2188914\n",
      "   macro avg       0.85      0.87      0.86   2188914\n",
      "weighted avg       0.88      0.88      0.88   2188914\n",
      "\n"
     ]
    }
   ],
   "source": [
    "from sklearn.metrics import accuracy_score, confusion_matrix, classification_report\n",
    "\n",
    "\n",
    "cm = confusion_matrix(y_2018_pred.flatten(), y_2018.flatten())\n",
    "\n",
    "print('Accuracy: %.2f' % accuracy_score(y_pred.flatten(), y_test.flatten()))\n",
    "print('Intersection Over Union: %.2f' % iou(cm))\n",
    "print('Confusion Matrix: \\n', cm)\n",
    "print('Classification report:\\n', classification_report(y_pred.flatten(), y_test.flatten()))"
   ]
  }
 ],
 "metadata": {
  "accelerator": "GPU",
  "colab": {
   "collapsed_sections": [],
   "machine_shape": "hm",
   "name": "Log_Reg_Comparing_Class_Balance.ipynb",
   "provenance": []
  },
  "kernelspec": {
   "display_name": "Python 3",
   "language": "python",
   "name": "python3"
  },
  "language_info": {
   "codemirror_mode": {
    "name": "ipython",
    "version": 3
   },
   "file_extension": ".py",
   "mimetype": "text/x-python",
   "name": "python",
   "nbconvert_exporter": "python",
   "pygments_lexer": "ipython3",
   "version": "3.6.9"
  }
 },
 "nbformat": 4,
 "nbformat_minor": 1
}
