{
 "cells": [
  {
   "cell_type": "code",
   "execution_count": 5,
   "metadata": {},
   "outputs": [],
   "source": [
    "import os\n",
    "import numpy as np\n",
    "import matplotlib.pyplot as plt\n",
    "import pickle"
   ]
  },
  {
   "cell_type": "code",
   "execution_count": 6,
   "metadata": {},
   "outputs": [],
   "source": [
    "from sklearn.preprocessing import StandardScaler, FunctionTransformer\n",
    "from sklearn.metrics import accuracy_score, confusion_matrix, classification_report"
   ]
  },
  {
   "cell_type": "code",
   "execution_count": 7,
   "metadata": {},
   "outputs": [],
   "source": [
    "# import keras_unet\n",
    "from keras.optimizers import Adam, SGD\n",
    "from keras_unet.metrics import iou, iou_thresholded\n",
    "from keras_unet.losses import jaccard_distance\n",
    "\n",
    "from keras.models import load_model"
   ]
  },
  {
   "cell_type": "code",
   "execution_count": 8,
   "metadata": {},
   "outputs": [],
   "source": [
    "MODEL_PATH = '../../models'\n",
    "DATA_PATH = '../../data/processed'"
   ]
  },
  {
   "cell_type": "code",
   "execution_count": 9,
   "metadata": {},
   "outputs": [],
   "source": [
    "def load_data(year, img_h=1400, img_w=1400):\n",
    "\n",
    "    X = []\n",
    "    y = []\n",
    "\n",
    "    data_dir = os.path.join(DATA_PATH, str(year))\n",
    "    frames_dir = os.path.join(data_dir, 'frames')\n",
    "    masks_dir = os.path.join(data_dir, 'masks')\n",
    "\n",
    "    for file in sorted(os.listdir(frames_dir)):\n",
    "        if file.startswith('R'):\n",
    "            filename = file.split('.')[0]\n",
    "\n",
    "            frame = np.load(os.path.join(frames_dir, filename + '.npy'))\n",
    "            mask = np.load(os.path.join(masks_dir, filename + '_labels.npy'))\n",
    "            X.append(frame[:img_h, :img_w, :])\n",
    "            y.append(mask[:img_h, :img_w])\n",
    "\n",
    "    X = np.array(X)\n",
    "    y = np.array(y)\n",
    "\n",
    "    return X, y"
   ]
  },
  {
   "cell_type": "code",
   "execution_count": 10,
   "metadata": {},
   "outputs": [],
   "source": [
    "def standardize(X):\n",
    "    \n",
    "    # flatten X to 2D array\n",
    "    X_reshaped = X.reshape(-1, X.shape[-1])\n",
    "    \n",
    "    # standardize on columns\n",
    "    scaler = StandardScaler()\n",
    "    X_scaled = scaler.fit_transform(X_reshaped)\n",
    "    \n",
    "    # reshape X to original shape\n",
    "    X_final = X_scaled.reshape(X.shape)\n",
    "    \n",
    "    return X_final"
   ]
  },
  {
   "cell_type": "markdown",
   "metadata": {},
   "source": [
    "## Loading trained U-Net weights"
   ]
  },
  {
   "cell_type": "code",
   "execution_count": null,
   "metadata": {},
   "outputs": [],
   "source": [
    "dependencies = { 'iou': iou }\n",
    "model = load_model(os.path.join(MODEL_PATH, 'segm_model_v3.h5'), custom_objects=dependencies)"
   ]
  },
  {
   "cell_type": "markdown",
   "metadata": {},
   "source": [
    "## Loading, shaping and standardizing 2018 data"
   ]
  },
  {
   "cell_type": "code",
   "execution_count": 12,
   "metadata": {},
   "outputs": [],
   "source": [
    "X, y = load_data(year=2018)\n",
    "\n",
    "X_scaled = standardize(X)\n",
    "y = y.reshape(y.shape[0], y.shape[1], y.shape[2], 1)"
   ]
  },
  {
   "cell_type": "markdown",
   "metadata": {},
   "source": [
    "## Get smaller patches/crops from bigger image"
   ]
  },
  {
   "cell_type": "code",
   "execution_count": 13,
   "metadata": {},
   "outputs": [],
   "source": [
    "from keras_unet.utils import get_patches\n",
    "\n",
    "X_crops = []\n",
    "y_crops = []\n",
    "\n",
    "patch_size = 512\n",
    "stride_size = 512\n",
    "\n",
    "for i, x in enumerate(X_scaled):\n",
    "\n",
    "    x_ = get_patches(\n",
    "        img_arr=x,\n",
    "        size=patch_size,\n",
    "        stride=stride_size)\n",
    "\n",
    "    y_ = get_patches(\n",
    "        img_arr=y[i], \n",
    "        size=patch_size, \n",
    "        stride=stride_size)\n",
    "\n",
    "    X_crops.append(x_)\n",
    "    y_crops.append(y_)\n",
    "    \n",
    "X_crops = np.array(X_crops)\n",
    "y_crops = np.array(y_crops)"
   ]
  },
  {
   "cell_type": "code",
   "execution_count": 16,
   "metadata": {},
   "outputs": [],
   "source": [
    "X_crops = X_crops.reshape(X_crops.shape[0] * X_crops.shape[1],\n",
    "                          X_crops.shape[2],\n",
    "                          X_crops.shape[3],\n",
    "                          X_crops.shape[4])\n",
    "\n",
    "y_crops = y_crops.reshape(y_crops.shape[0] * y_crops.shape[1],\n",
    "                          y_crops.shape[2],\n",
    "                          y_crops.shape[3],\n",
    "                          y_crops.shape[4])"
   ]
  },
  {
   "cell_type": "markdown",
   "metadata": {},
   "source": [
    "## Predicting on image patches using U-Net model"
   ]
  },
  {
   "cell_type": "code",
   "execution_count": 18,
   "metadata": {},
   "outputs": [],
   "source": [
    "y_pred = model.predict(X_crops)"
   ]
  },
  {
   "cell_type": "code",
   "execution_count": 19,
   "metadata": {},
   "outputs": [],
   "source": [
    "# Rounding probabilities to 0/1\n",
    "y_pred_binary = np.round_(y_pred, 0)"
   ]
  },
  {
   "cell_type": "markdown",
   "metadata": {},
   "source": [
    "## Results"
   ]
  },
  {
   "cell_type": "code",
   "execution_count": 51,
   "metadata": {},
   "outputs": [],
   "source": [
    "def intersection_over_union(confusion_matrix):\n",
    "    \"\"\" Intersection-over-union metric for image segmentation \"\"\"\n",
    "  \n",
    "    tn, fp, fn, tp = confusion_matrix.ravel()\n",
    "    iou = tp / (tp + fn + fp)\n",
    "    return iou\n",
    "\n",
    "def print_metrics(y_true, y_pred):\n",
    "    y_true_flat = y_true.flatten()\n",
    "    y_pred_flat = y_pred.flatten()\n",
    "\n",
    "    cm = confusion_matrix(y_true_flat, y_pred_flat)\n",
    "\n",
    "    print('Accuracy: %.2f' % accuracy_score(y_true_flat, y_pred_flat))\n",
    "    print('Intersection-over-Union: %.2f' % intersection_over_union(cm))\n",
    "    print('Confusion Matrix: \\n', cm)\n",
    "    print('Classification report:\\n', classification_report(y_true_flat, y_pred_flat))"
   ]
  },
  {
   "cell_type": "code",
   "execution_count": 52,
   "metadata": {},
   "outputs": [
    {
     "name": "stdout",
     "output_type": "stream",
     "text": [
      "Accuracy: 0.94\n",
      "Intersection-over-Union: 0.82\n",
      "Confusion Matrix: \n",
      " [[15977286   888105]\n",
      " [  617636  6634221]]\n",
      "Classification report:\n",
      "               precision    recall  f1-score   support\n",
      "\n",
      "           0       0.96      0.95      0.95  16865391\n",
      "           1       0.88      0.91      0.90   7251857\n",
      "\n",
      "    accuracy                           0.94  24117248\n",
      "   macro avg       0.92      0.93      0.93  24117248\n",
      "weighted avg       0.94      0.94      0.94  24117248\n",
      "\n"
     ]
    }
   ],
   "source": [
    "print_metrics(y_crops, y_pred_binary)"
   ]
  },
  {
   "cell_type": "markdown",
   "metadata": {},
   "source": [
    "## Visualizing predictions"
   ]
  },
  {
   "cell_type": "code",
   "execution_count": 45,
   "metadata": {},
   "outputs": [
    {
     "data": {
      "text/plain": [
       "<matplotlib.image.AxesImage at 0x1a588ed1d0>"
      ]
     },
     "execution_count": 45,
     "metadata": {},
     "output_type": "execute_result"
    },
    {
     "data": {
      "image/png": "[encoded data removed]",
      "text/plain": [
       "<Figure size 792x432 with 2 Axes>"
      ]
     },
     "metadata": {},
     "output_type": "display_data"
    }
   ],
   "source": [
    "import matplotlib.pyplot as plt\n",
    "\n",
    "f = plt.figure(figsize=(11,6))\n",
    "\n",
    "plt.subplot(121)\n",
    "plt.title('Actual Coverage')\n",
    "plt.xticks([])\n",
    "plt.yticks([])\n",
    "plt.imshow(y_crops[0].reshape(512, 512))\n",
    "\n",
    "plt.subplot(122)\n",
    "plt.title('Predicted Coverage')\n",
    "plt.xticks([])\n",
    "plt.yticks([])\n",
    "plt.imshow(y_pred_binary[0].reshape(512, 512))"
   ]
  },
  {
   "cell_type": "code",
   "execution_count": 53,
   "metadata": {},
   "outputs": [
    {
     "name": "stdout",
     "output_type": "stream",
     "text": [
      "Accuracy: 0.94\n",
      "Intersection-over-Union: 0.87\n",
      "Confusion Matrix: \n",
      " [[148331   4609]\n",
      " [  9862  99342]]\n",
      "Classification report:\n",
      "               precision    recall  f1-score   support\n",
      "\n",
      "           0       0.94      0.97      0.95    152940\n",
      "           1       0.96      0.91      0.93    109204\n",
      "\n",
      "    accuracy                           0.94    262144\n",
      "   macro avg       0.95      0.94      0.94    262144\n",
      "weighted avg       0.95      0.94      0.94    262144\n",
      "\n"
     ]
    }
   ],
   "source": [
    "print_metrics(y_crops[0], y_pred_binary[0])"
   ]
  }
 ],
 "metadata": {
  "kernelspec": {
   "display_name": "Python 3",
   "language": "python",
   "name": "python3"
  },
  "language_info": {
   "codemirror_mode": {
    "name": "ipython",
    "version": 3
   },
   "file_extension": ".py",
   "mimetype": "text/x-python",
   "name": "python",
   "nbconvert_exporter": "python",
   "pygments_lexer": "ipython3",
   "version": "3.6.9"
  }
 },
 "nbformat": 4,
 "nbformat_minor": 2
}
