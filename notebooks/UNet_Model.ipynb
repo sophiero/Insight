{
 "cells": [
  {
   "cell_type": "code",
   "execution_count": 0,
   "metadata": {
    "colab": {},
    "colab_type": "code",
    "id": "gAU8wbxBe63l"
   },
   "outputs": [],
   "source": [
    "import os\n",
    "import numpy as np\n",
    "import matplotlib.pyplot as plt"
   ]
  },
  {
   "cell_type": "code",
   "execution_count": 2,
   "metadata": {
    "colab": {
     "base_uri": "https://localhost:8080/",
     "height": 221
    },
    "colab_type": "code",
    "id": "aGEUUK6hvLrb",
    "outputId": "5f0f8ac3-d483-41b4-b33d-3cd46c352de9"
   },
   "outputs": [
    {
     "name": "stdout",
     "output_type": "stream",
     "text": [
      "Collecting keras-unet\n",
      "  Downloading https://files.pythonhosted.org/packages/e8/6a/06806e2a778e793e8023316a235ab1fd6c4642cca3a1f81dfa617d48c0f8/keras_unet-0.0.7-py3-none-any.whl\n",
      "Requirement already satisfied: keras in /usr/local/lib/python3.6/dist-packages (from keras-unet) (2.2.5)\n",
      "Requirement already satisfied: numpy>=1.9.1 in /usr/local/lib/python3.6/dist-packages (from keras->keras-unet) (1.16.5)\n",
      "Requirement already satisfied: scipy>=0.14 in /usr/local/lib/python3.6/dist-packages (from keras->keras-unet) (1.3.1)\n",
      "Requirement already satisfied: keras-preprocessing>=1.1.0 in /usr/local/lib/python3.6/dist-packages (from keras->keras-unet) (1.1.0)\n",
      "Requirement already satisfied: keras-applications>=1.0.8 in /usr/local/lib/python3.6/dist-packages (from keras->keras-unet) (1.0.8)\n",
      "Requirement already satisfied: h5py in /usr/local/lib/python3.6/dist-packages (from keras->keras-unet) (2.8.0)\n",
      "Requirement already satisfied: six>=1.9.0 in /usr/local/lib/python3.6/dist-packages (from keras->keras-unet) (1.12.0)\n",
      "Requirement already satisfied: pyyaml in /usr/local/lib/python3.6/dist-packages (from keras->keras-unet) (3.13)\n",
      "Installing collected packages: keras-unet\n",
      "Successfully installed keras-unet-0.0.7\n"
     ]
    }
   ],
   "source": [
    "!pip install keras-unet"
   ]
  },
  {
   "cell_type": "code",
   "execution_count": 3,
   "metadata": {
    "colab": {
     "base_uri": "https://localhost:8080/",
     "height": 122
    },
    "colab_type": "code",
    "id": "vByjBjfuxi9w",
    "outputId": "a7417ebd-de74-47cd-942b-7dca55d99999"
   },
   "outputs": [
    {
     "name": "stdout",
     "output_type": "stream",
     "text": [
      "Go to this URL in a browser: https://accounts.google.com/o/oauth2/auth?client_id=947318989803-6bn6qk8qdgf4n4g3pfee6491hc0brc4i.apps.googleusercontent.com&redirect_uri=urn%3Aietf%3Awg%3Aoauth%3A2.0%3Aoob&scope=email%20https%3A%2F%2Fwww.googleapis.com%2Fauth%2Fdocs.test%20https%3A%2F%2Fwww.googleapis.com%2Fauth%2Fdrive%20https%3A%2F%2Fwww.googleapis.com%2Fauth%2Fdrive.photos.readonly%20https%3A%2F%2Fwww.googleapis.com%2Fauth%2Fpeopleapi.readonly&response_type=code\n",
      "\n",
      "Enter your authorization code:\n",
      "··········\n",
      "Mounted at /content/drive/\n"
     ]
    }
   ],
   "source": [
    "from google.colab import drive\n",
    "drive.mount('/content/drive/')"
   ]
  },
  {
   "cell_type": "code",
   "execution_count": 0,
   "metadata": {
    "colab": {},
    "colab_type": "code",
    "id": "ovfKU5I6e2MU"
   },
   "outputs": [],
   "source": [
    "# DATA_PATH = './data_new/2017_numpy'\n",
    "DATA_PATH = '/content/drive/My Drive/Insight/2017_numpy'\n",
    "FRAME_PATH = DATA_PATH+'/frames/'\n",
    "MASK_PATH = DATA_PATH+'/masks/'"
   ]
  },
  {
   "cell_type": "markdown",
   "metadata": {
    "colab_type": "text",
    "id": "fY1sngnc2H2r"
   },
   "source": [
    "## Loading 2017 data"
   ]
  },
  {
   "cell_type": "code",
   "execution_count": 0,
   "metadata": {
    "colab": {},
    "colab_type": "code",
    "id": "SRpugg-vfFsj"
   },
   "outputs": [],
   "source": [
    "HEIGHT = 1400\n",
    "WIDTH = 1400\n",
    "\n",
    "# def load_data():\n",
    "    \n",
    "X = []\n",
    "y = []\n",
    "\n",
    "for file in sorted(os.listdir(FRAME_PATH)):   \n",
    "    if file.startswith('R'):\n",
    "        filename = file.split('.')[0]\n",
    "\n",
    "        frame = np.load(os.path.join(FRAME_PATH, filename + '.npy'))\n",
    "        mask = np.load(os.path.join(MASK_PATH, filename + '_labels.npy'))\n",
    "        X.append(frame[:HEIGHT, :WIDTH, :])\n",
    "        y.append(mask[:HEIGHT, :WIDTH])\n",
    "\n",
    "X = np.array(X)\n",
    "y = np.array(y)\n",
    "\n",
    "# return X, y"
   ]
  },
  {
   "cell_type": "code",
   "execution_count": 0,
   "metadata": {
    "colab": {},
    "colab_type": "code",
    "id": "b0ZsA74qLcPu"
   },
   "outputs": [],
   "source": [
    "from sklearn.preprocessing import StandardScaler\n",
    "\n",
    "def standardize(X):\n",
    "    scaler = StandardScaler()\n",
    "    X_scaled = scaler.fit_transform(X)\n",
    "    return X_scaled"
   ]
  },
  {
   "cell_type": "markdown",
   "metadata": {
    "colab_type": "text",
    "id": "WupnASyv2W1b"
   },
   "source": [
    "## Cropping 512x512 image patches to feed into network"
   ]
  },
  {
   "cell_type": "code",
   "execution_count": 0,
   "metadata": {
    "colab": {},
    "colab_type": "code",
    "id": "fTt7kiTOBxd9"
   },
   "outputs": [],
   "source": [
    "from PIL import Image\n",
    "import numpy as np\n",
    "from keras_unet.utils import get_patches\n",
    "\n",
    "# x = np.array(Image.open(\"../docs/sat_image_1.jpg\"))\n",
    "# print(\"x shape: \", str(x.shape))\n",
    "\n",
    "X_crops = []\n",
    "y_crops = []\n",
    "\n",
    "CROP_X = 512\n",
    "CROP_Y = 512\n",
    "\n",
    "for i, x in enumerate(X):\n",
    "  x_cropped = get_patches(\n",
    "      img_arr=x, # required - array of images to be cropped\n",
    "      size=CROP_X, # default is 256\n",
    "      stride=CROP_X) # default is 256\n",
    "  \n",
    "  y_cropped = get_patches(\n",
    "    img_arr=y[i].reshape(HEIGHT,WIDTH,1), # required - array of images to be cropped\n",
    "    size=CROP_X, \n",
    "    stride=CROP_X)\n",
    "  \n",
    "  X_crops.append(x_cropped)\n",
    "  y_crops.append(y_cropped)"
   ]
  },
  {
   "cell_type": "code",
   "execution_count": 0,
   "metadata": {
    "colab": {},
    "colab_type": "code",
    "id": "XC11LfQsYV4T"
   },
   "outputs": [],
   "source": [
    "X_crops = np.array(X_crops)\n",
    "y_crops = np.array(y_crops)\n",
    "\n",
    "X_cropped = X_crops.reshape(X_crops.shape[0]*X_crops.shape[1], X_crops.shape[2], X_crops.shape[3],  X_crops.shape[4])\n",
    "y_cropped = y_crops.reshape(y_crops.shape[0]*y_crops.shape[1], y_crops.shape[2], y_crops.shape[3], 1)"
   ]
  },
  {
   "cell_type": "markdown",
   "metadata": {
    "colab_type": "text",
    "id": "L6bfqfsM2gvj"
   },
   "source": [
    "## Peparing data for training"
   ]
  },
  {
   "cell_type": "code",
   "execution_count": 0,
   "metadata": {
    "colab": {},
    "colab_type": "code",
    "id": "lim6T9CD0LCq"
   },
   "outputs": [],
   "source": [
    "from sklearn.model_selection import train_test_split\n",
    "\n",
    "X_reshaped = X_cropped.reshape(X_cropped.shape[0] * CROP_X * CROP_Y,13)\n",
    "X_std = standardize(X_reshaped)\n",
    "X_ = X_std.reshape(X_cropped.shape[0], CROP_X, CROP_Y, 13)\n",
    "\n",
    "X_train, X_test, y_train, y_test = train_test_split(X_, y_cropped, test_size=0.2, shuffle=False)"
   ]
  },
  {
   "cell_type": "markdown",
   "metadata": {
    "colab_type": "text",
    "id": "58cDbEuuxfzZ"
   },
   "source": [
    "## Data augmentation generator - horizontal and vertical flip"
   ]
  },
  {
   "cell_type": "code",
   "execution_count": 29,
   "metadata": {
    "colab": {
     "base_uri": "https://localhost:8080/",
     "height": 105
    },
    "colab_type": "code",
    "id": "gSxM3BxO0q2P",
    "outputId": "31c330a1-a29b-4f46-ba3d-b6eea908d59e"
   },
   "outputs": [
    {
     "name": "stderr",
     "output_type": "stream",
     "text": [
      "/usr/local/lib/python3.6/dist-packages/keras_preprocessing/image/image_data_generator.py:940: UserWarning: Expected input to be images (as Numpy array) following the data format convention \"channels_last\" (channels on axis 3), i.e. expected either 1, 3 or 4 channels on axis 3. However, it was passed an array with shape (96, 512, 512, 13) (13 channels).\n",
      "  ' channels).')\n",
      "/usr/local/lib/python3.6/dist-packages/keras_preprocessing/image/numpy_array_iterator.py:127: UserWarning: NumpyArrayIterator is set to use the data format convention \"channels_last\" (channels on axis 3), i.e. expected either 1, 3, or 4 channels on axis 3. However, it was passed an array with shape (96, 512, 512, 13) (13 channels).\n",
      "  str(self.x.shape[channels_axis]) + ' channels).')\n"
     ]
    }
   ],
   "source": [
    "from keras_unet.utils import get_augmented\n",
    "\n",
    "train_gen = get_augmented(\n",
    "    X_train, y_train, batch_size=2,\n",
    "    data_gen_args = dict(\n",
    "#         rotation_range=5.,\n",
    "#         width_shift_range=0.05,\n",
    "#         height_shift_range=0.05,\n",
    "#         shear_range=40,\n",
    "#         zoom_range=0.2,\n",
    "        horizontal_flip=True,\n",
    "        vertical_flip=True,\n",
    "#         fill_mode='constant'\n",
    "    ))"
   ]
  },
  {
   "cell_type": "markdown",
   "metadata": {
    "colab_type": "text",
    "id": "cZEtnv0n2xy-"
   },
   "source": [
    "## Building and compiling U-Net model"
   ]
  },
  {
   "cell_type": "code",
   "execution_count": 0,
   "metadata": {
    "colab": {},
    "colab_type": "code",
    "id": "Efi6ryJs0MfO"
   },
   "outputs": [],
   "source": [
    "from keras_unet.models import custom_unet\n",
    "\n",
    "input_shape = X_train[0].shape\n",
    "\n",
    "model = custom_unet(\n",
    "    input_shape,\n",
    "    filters=32,\n",
    "    use_batch_norm=True,\n",
    "    dropout=0.3,\n",
    "#     dropout=0.4,\n",
    "    dropout_change_per_layer=0.0,\n",
    "    num_layers=4\n",
    ")"
   ]
  },
  {
   "cell_type": "code",
   "execution_count": 32,
   "metadata": {
    "colab": {
     "base_uri": "https://localhost:8080/",
     "height": 122
    },
    "colab_type": "code",
    "id": "u4WgPbty0cbO",
    "outputId": "f6597e48-8ab0-48d5-bd22-7f245e459964"
   },
   "outputs": [
    {
     "name": "stdout",
     "output_type": "stream",
     "text": [
      "WARNING:tensorflow:From /usr/local/lib/python3.6/dist-packages/keras/optimizers.py:793: The name tf.train.Optimizer is deprecated. Please use tf.compat.v1.train.Optimizer instead.\n",
      "\n",
      "WARNING:tensorflow:From /usr/local/lib/python3.6/dist-packages/tensorflow/python/ops/nn_impl.py:180: add_dispatch_support.<locals>.wrapper (from tensorflow.python.ops.array_ops) is deprecated and will be removed in a future version.\n",
      "Instructions for updating:\n",
      "Use tf.where in 2.0, which has the same broadcast rule as np.where\n"
     ]
    }
   ],
   "source": [
    "from keras.optimizers import Adam, SGD\n",
    "from keras_unet.metrics import iou, iou_thresholded\n",
    "from keras_unet.losses import jaccard_distance\n",
    "\n",
    "model.compile(\n",
    "    optimizer=Adam(), \n",
    "#     optimizer=SGD(lr=0.01, momentum=0.99),\n",
    "    loss='binary_crossentropy',\n",
    "    #loss=jaccard_distance,\n",
    "    metrics=[iou]\n",
    ")"
   ]
  },
  {
   "cell_type": "markdown",
   "metadata": {
    "colab_type": "text",
    "id": "_kLOnQfK7AUQ"
   },
   "source": [
    "## Training model"
   ]
  },
  {
   "cell_type": "code",
   "execution_count": 33,
   "metadata": {
    "colab": {
     "base_uri": "https://localhost:8080/",
     "height": 357
    },
    "colab_type": "code",
    "id": "TAJUGzw51wJR",
    "outputId": "282d95a7-d134-4b28-a77b-63a2fa24c873"
   },
   "outputs": [
    {
     "name": "stdout",
     "output_type": "stream",
     "text": [
      "Epoch 1/10\n",
      "10/10 [==============================] - 21s 2s/step - loss: 0.4751 - iou: 0.4558 - val_loss: 0.4078 - val_iou: 0.4829\n",
      "Epoch 2/10\n",
      "10/10 [==============================] - 8s 751ms/step - loss: 0.2557 - iou: 0.6436 - val_loss: 0.2622 - val_iou: 0.5579\n",
      "Epoch 3/10\n",
      "10/10 [==============================] - 8s 751ms/step - loss: 0.2231 - iou: 0.7019 - val_loss: 1.2937 - val_iou: 0.3828\n",
      "Epoch 4/10\n",
      "10/10 [==============================] - 8s 752ms/step - loss: 0.2244 - iou: 0.6799 - val_loss: 0.4388 - val_iou: 0.5795\n",
      "Epoch 5/10\n",
      "10/10 [==============================] - 8s 750ms/step - loss: 0.3066 - iou: 0.5550 - val_loss: 1.6556 - val_iou: 0.3464\n",
      "Epoch 6/10\n",
      "10/10 [==============================] - 8s 751ms/step - loss: 0.2128 - iou: 0.6827 - val_loss: 0.1933 - val_iou: 0.5775\n",
      "Epoch 7/10\n",
      "10/10 [==============================] - 8s 751ms/step - loss: 0.2379 - iou: 0.6750 - val_loss: 0.3206 - val_iou: 0.4259\n",
      "Epoch 8/10\n",
      "10/10 [==============================] - 8s 751ms/step - loss: 0.2160 - iou: 0.6993 - val_loss: 0.2254 - val_iou: 0.5483\n",
      "Epoch 9/10\n",
      "10/10 [==============================] - 8s 752ms/step - loss: 0.1909 - iou: 0.7036 - val_loss: 0.1795 - val_iou: 0.6244\n",
      "Epoch 10/10\n",
      "10/10 [==============================] - 7s 749ms/step - loss: 0.2193 - iou: 0.6662 - val_loss: 0.1993 - val_iou: 0.6078\n"
     ]
    }
   ],
   "source": [
    "history = model.fit_generator(\n",
    "    train_gen,\n",
    "    steps_per_epoch=10,\n",
    "    epochs=10,\n",
    "    validation_data=(X_test, y_test)\n",
    "#     callbacks=[callback_checkpoint]\n",
    ")"
   ]
  },
  {
   "cell_type": "code",
   "execution_count": 34,
   "metadata": {
    "colab": {
     "base_uri": "https://localhost:8080/",
     "height": 863
    },
    "colab_type": "code",
    "id": "ldDjo9AzIzhn",
    "outputId": "a12d57f2-a34e-403d-fc1b-2c674f256ff3"
   },
   "outputs": [
    {
     "data": {
      "image/png": "[encoded data removed]",
      "text/plain": [
       "<Figure size 864x432 with 1 Axes>"
      ]
     },
     "metadata": {
      "tags": []
     },
     "output_type": "display_data"
    },
    {
     "data": {
      "image/png": "[encoded data removed]",
      "text/plain": [
       "<Figure size 864x432 with 1 Axes>"
      ]
     },
     "metadata": {
      "tags": []
     },
     "output_type": "display_data"
    }
   ],
   "source": [
    "from keras_unet.utils import plot_segm_history\n",
    "\n",
    "plot_segm_history(\n",
    "    history, # required - keras training history object\n",
    "    metrics=['iou', 'val_iou'], # optional - metrics names to plot\n",
    "    losses=['loss', 'val_loss']) # optional - loss names to plot"
   ]
  },
  {
   "cell_type": "markdown",
   "metadata": {
    "colab_type": "text",
    "id": "ULPjB4sU3Apy"
   },
   "source": [
    "## Predicting on 2017 test sample"
   ]
  },
  {
   "cell_type": "code",
   "execution_count": 0,
   "metadata": {
    "colab": {},
    "colab_type": "code",
    "id": "QmrQT_nP5ePq"
   },
   "outputs": [],
   "source": [
    "y_pred = model.predict(X_test)"
   ]
  },
  {
   "cell_type": "code",
   "execution_count": 38,
   "metadata": {
    "colab": {
     "base_uri": "https://localhost:8080/",
     "height": 286
    },
    "colab_type": "code",
    "id": "k6c2nL3X57pW",
    "outputId": "68429d77-c553-4c40-8152-9452f0db29e8"
   },
   "outputs": [
    {
     "data": {
      "text/plain": [
       "<matplotlib.image.AxesImage at 0x7f372ed47860>"
      ]
     },
     "execution_count": 38,
     "metadata": {
      "tags": []
     },
     "output_type": "execute_result"
    },
    {
     "data": {
      "image/png": "[encoded data removed]",
      "text/plain": [
       "<Figure size 432x288 with 1 Axes>"
      ]
     },
     "metadata": {
      "tags": []
     },
     "output_type": "display_data"
    }
   ],
   "source": [
    "# Predicted \n",
    "\n",
    "y_pred_sample = y_pred[0].reshape(CROP_X, CROP_Y)\n",
    "y_pred_binary = np.round_(y_pred_sample, 0)\n",
    "\n",
    "plt.imshow(y_pred_binary)"
   ]
  },
  {
   "cell_type": "code",
   "execution_count": 39,
   "metadata": {
    "colab": {
     "base_uri": "https://localhost:8080/",
     "height": 286
    },
    "colab_type": "code",
    "id": "2HUkpXO3590u",
    "outputId": "e3249327-142d-4ad1-e3c9-9bae98cb0c8a"
   },
   "outputs": [
    {
     "data": {
      "text/plain": [
       "<matplotlib.image.AxesImage at 0x7f372ed22198>"
      ]
     },
     "execution_count": 39,
     "metadata": {
      "tags": []
     },
     "output_type": "execute_result"
    },
    {
     "data": {
      "image/png": "[encoded data removed]",
      "text/plain": [
       "<Figure size 432x288 with 1 Axes>"
      ]
     },
     "metadata": {
      "tags": []
     },
     "output_type": "display_data"
    }
   ],
   "source": [
    "# Actual\n",
    "\n",
    "plt.imshow(y_test[0].reshape(CROP_X, CROP_Y))"
   ]
  },
  {
   "cell_type": "code",
   "execution_count": 40,
   "metadata": {
    "colab": {
     "base_uri": "https://localhost:8080/",
     "height": 255
    },
    "colab_type": "code",
    "id": "EDM6Y8XD_JOL",
    "outputId": "0731fb3a-c685-495d-ce46-e90949607a99"
   },
   "outputs": [
    {
     "name": "stdout",
     "output_type": "stream",
     "text": [
      "Accuracy: 0.94\n",
      "Confusion Matrix: \n",
      " [[202120   6255]\n",
      " [  8779  44990]]\n",
      "Classification report:\n",
      "               precision    recall  f1-score   support\n",
      "\n",
      "         0.0       0.96      0.97      0.96    208375\n",
      "         1.0       0.88      0.84      0.86     53769\n",
      "\n",
      "    accuracy                           0.94    262144\n",
      "   macro avg       0.92      0.90      0.91    262144\n",
      "weighted avg       0.94      0.94      0.94    262144\n",
      "\n"
     ]
    }
   ],
   "source": [
    "from sklearn.metrics import accuracy_score, confusion_matrix, classification_report\n",
    "\n",
    "print('Accuracy: %.2f' % accuracy_score(y_pred_binary.flatten(), y_test[0].flatten()))\n",
    "print('Confusion Matrix: \\n', confusion_matrix(y_pred_binary.flatten(), y_test[0].flatten()))\n",
    "print('Classification report:\\n', classification_report(y_pred_binary.flatten(), y_test[9].flatten()))"
   ]
  }
 ],
 "metadata": {
  "accelerator": "GPU",
  "colab": {
   "collapsed_sections": [],
   "machine_shape": "hm",
   "name": "UNet_Keras",
   "provenance": []
  },
  "kernelspec": {
   "display_name": "Python 3",
   "language": "python",
   "name": "python3"
  },
  "language_info": {
   "codemirror_mode": {
    "name": "ipython",
    "version": 3
   },
   "file_extension": ".py",
   "mimetype": "text/x-python",
   "name": "python",
   "nbconvert_exporter": "python",
   "pygments_lexer": "ipython3",
   "version": "3.6.9"
  }
 },
 "nbformat": 4,
 "nbformat_minor": 1
}
